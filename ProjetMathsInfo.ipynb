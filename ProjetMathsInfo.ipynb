{
 "cells": [
  {
   "cell_type": "markdown",
   "metadata": {},
   "source": [
    "Projet Maths-Info\n",
    "===============\n",
    "\n",
    "Myrtille DAVID et Bérénice SINOPOLI--PAL\n",
    "\n",
    "\n"
   ]
  },
  {
   "cell_type": "code",
   "execution_count": 23,
   "metadata": {},
   "outputs": [],
   "source": [
    "import autograd\n",
    "from autograd import numpy as np\n",
    "from matplotlib import pyplot as plt\n",
    "%matplotlib inline"
   ]
  },
  {
   "cell_type": "markdown",
   "metadata": {},
   "source": [
    "Amorce\n",
    "------\n",
    "\n",
    "D'après le théorème des valeurs intermédiaires, si la fonction $f_{1}:x \\mapsto f(x,0)$ est continue et que $f(0,0)\\leq c\\leq f(1,0)$ alors il existe $t\\in [0,1]$ tel que $f(t,0)=c$.\n",
    "Plusieurs algorithmes sont envisageables pour trouver ce t. Comme la méthode de Newton ne fonctionne pas avec toutes les fonctions, on a préféré ici une méthode par dichotomie."
   ]
  },
  {
   "cell_type": "code",
   "execution_count": 18,
   "metadata": {},
   "outputs": [],
   "source": [
    "def find_seed(g, c=0, eps=2**(-26)):\n",
    "    def f(x,y):\n",
    "        return g(x,y)-c\n",
    "    a,b=0,1\n",
    "    m=(a+b)/2\n",
    "    \n",
    "    if f(0,a)*f(0,b)<0 :\n",
    "        while abs(f(0,m))>eps:\n",
    "            if f(0,a)*f(0,m)<0:\n",
    "                b = m\n",
    "            elif f(0,b)*f(0,m)<0:\n",
    "                a = m\n",
    "            m = (a+b)/2\n",
    "    \n",
    "        return m\n",
    "    elif f(0,a)==0:\n",
    "        return a\n",
    "    elif f(0,b)==0:\n",
    "        return b\n",
    "    else :\n",
    "        return None"
   ]
  },
  {
   "cell_type": "markdown",
   "metadata": {},
   "source": [
    "Propagation : première version\n",
    "-------------\n",
    "\n",
    "Voici une première ébauche de notre programme simple_contour. On utilise ici le fait que le gradient est en tout point orthogonal aux lignes de niveau. \n",
    "\n",
    "**Principe :** on définit une fonction grad_f qui calcule le gradient de la fonction en un point donné. On trace ensuite la ligne de niveau point par point : on calcule le gradient, on ajoute un point dans la direction orthogonale éloigné d'une distance $\\delta$ du précédent.\n",
    "\n",
    "**Le problème majeur de ce programme :** à chaque fois que l'on ajoute un point, l'erreur s'accumule et on peut s'éloigner beaucoup de la ligne de niveau initiale."
   ]
  },
  {
   "cell_type": "code",
   "execution_count": 19,
   "metadata": {},
   "outputs": [],
   "source": [
    "def simple_contour_brouillon(f, c=0.0, delta=0.01):\n",
    "    \n",
    "    def grad_f(x,y):\n",
    "        g = autograd.grad\n",
    "        return np.r_[g(f,0)(x,y), g(f,1)(x,y)]\n",
    "        \n",
    "    x=[]\n",
    "    y=[]\n",
    "    \n",
    "    a = find_seed(f,c)\n",
    "    if a is None :\n",
    "        return x,y\n",
    "    else:\n",
    "        x.append(0.0)\n",
    "        y.append(a)\n",
    "        \n",
    "    while len(x)<1000: #quelle condition pour arrêter de tracer la ligne de niveau ?\n",
    "        gr = grad_f(x[-1],y[-1])\n",
    "        d = [gr[1],-gr[0]]\n",
    "        L=np.sqrt(d[0]**2+d[1]**2)\n",
    "        d[0]=d[0]*delta/L\n",
    "        d[1]=d[1]*delta/L\n",
    "        \n",
    "        x.append(x[-1]+d[0])\n",
    "        y.append(y[-1]+d[1])\n",
    "        print(f(x[-1],y[-1]))\n",
    "        \n",
    "    plt.plot(x,y)\n",
    "    plt.show()\n",
    "    return x,y\n",
    "    "
   ]
  },
  {
   "cell_type": "markdown",
   "metadata": {},
   "source": [
    "Propagation : version finale\n",
    "------------------\n",
    "\n",
    "Ce programme fonctionne selon le même principe que le précédent. Voici les ajustements proposés : \n",
    "\n",
    "**Correction de l'erreur :** à chaque fois que l'on calcule un nouveau point, on vérifie qu'il n'est pas trop éloigné de la ligne de niveau souhaitée en comparant $f(x,y)$ à $c$. Si $\\left | f(x,y)-c) \\right |> 10^{-4}$, alors on se \"déplace\" dans la direction donnée par le gradient (dans le sens du gradient ou le sens opposé selon le signe de la différence) pour se rapprocher de la ligne de niveau. A chaque itération, on vérifie que la différence $\\left | f(x,y)-c) \\right |> 10^{-4}$ n'augmente pas ; sinon, on sort de la boucle.\n",
    "\n",
    "**Quand arrêter de tracer la ligne de niveau ?** \n",
    "Plusieurs cas de figure sont envisageables :\n",
    "- soit la ligne de niveau rencontre un des bords du carré; on s'arrête.\n",
    "- soit la ligne de niveau ne rencontre jamais de bord; dans ce cas, pour éviter de calculer indéfiniment de nouveaux points, on choisit arbitrairement de limiter le nombre de points de la ligne à 10000."
   ]
  },
  {
   "cell_type": "code",
   "execution_count": 20,
   "metadata": {},
   "outputs": [],
   "source": [
    "    \n",
    "def simple_contour(f, c=0.0, delta=0.01):\n",
    "    \n",
    "    def grad_f(x,y): #on définit la fonction gradient\n",
    "        g = autograd.grad\n",
    "        return np.r_[g(f,0)(x,y), g(f,1)(x,y)]\n",
    "        \n",
    "    x=[]\n",
    "    y=[]\n",
    "    \n",
    "    a = find_seed(f,c) #on cherche le premier point à l'aide du programme find_seed\n",
    "    \n",
    "    if a is None :\n",
    "        return x,y\n",
    "    else:\n",
    "        x.append(0.0)\n",
    "        y.append(a)\n",
    "        \n",
    "    while len(x)<10000: #on limite le nombre de points au cas où la ligne de niveau n'atteigne jamais de bord du carré\n",
    "        gr = grad_f(x[-1],y[-1]) #on calcule le gradient du dernier point trouvé\n",
    "        d = [gr[1],-gr[0]] #on calcule le vecteur orthogonal\n",
    "        L=np.sqrt(d[0]**2+d[1]**2)\n",
    "        d[0]=d[0]*delta/L #on change la norme de d pour qu'elle soit proche de delta\n",
    "        d[1]=d[1]*delta/L\n",
    "        \n",
    "        x2=x[-1]+d[0] #on calcule le nouveau point\n",
    "        y2=y[-1]+d[1]\n",
    "        \n",
    "        différence= f(x2,y2)-c #on vérifie que le nouveau point calculé ne s'éloigne pas trop de la ligne de niveau\n",
    "        while abs(différence)>10**(-4):\n",
    "            différence_ref=différence\n",
    "            t=grad_f(x2,y2)\n",
    "            norme_t=np.sqrt(t[0]**2+t[1]**2)\n",
    "            \n",
    "            if différence>0: #si f(x2,y2)>c alors on se déplace dans le sens opposé au gradient\n",
    "                x3=x2-t[0]/norme_t*(delta/50)\n",
    "                y3=y2-t[0]/norme_t*(delta/50)\n",
    "            else: #sinon on se déplace dans le sens du gradient\n",
    "                x3=x2+t[0]/norme_t*(delta/50)\n",
    "                y3=y2+t[0]/norme_t*(delta/50)\n",
    "            différence= f(x3,y3)-c\n",
    "            \n",
    "            if différence>différence_ref: #si on s'éloigne de la ligne de niveau, on arrête la correction\n",
    "                break\n",
    "                \n",
    "            x2=x3\n",
    "            y2=y3\n",
    "                \n",
    "        \n",
    "        x.append(x2)\n",
    "        y.append(y2)\n",
    "        \n",
    "        if (abs(x[-1]-1)<delta) or ((abs(x[-1])<delta) and len(x)>10) or (abs(y[-1]-1)<delta) or (abs(y[-1])<delta): #on s'arrête quand on atteint les bords\n",
    "            break\n",
    "        \n",
    "    plt.plot(x,y)\n",
    "    return(x,y)\n",
    "    "
   ]
  },
  {
   "cell_type": "markdown",
   "metadata": {},
   "source": [
    "Test de simple_contour\n",
    "-------------\n",
    "\n",
    "On teste simple_contour sur plusieurs fonctions définies ci-dessous."
   ]
  },
  {
   "cell_type": "code",
   "execution_count": 21,
   "metadata": {},
   "outputs": [],
   "source": [
    "def h2(x,y):\n",
    "    return x+y**2-0.47"
   ]
  },
  {
   "cell_type": "code",
   "execution_count": 22,
   "metadata": {
    "scrolled": true
   },
   "outputs": [
    {
     "ename": "AttributeError",
     "evalue": "module 'matplotlib.colors' has no attribute 'to_rgba'",
     "output_type": "error",
     "traceback": [
      "\u001b[1;31m---------------------------------------------------------------------------\u001b[0m",
      "\u001b[1;31mAttributeError\u001b[0m                            Traceback (most recent call last)",
      "\u001b[1;32m<ipython-input-22-ff4a10c62723>\u001b[0m in \u001b[0;36m<module>\u001b[1;34m\u001b[0m\n\u001b[0;32m      3\u001b[0m \u001b[0msimple_contour\u001b[0m\u001b[1;33m(\u001b[0m\u001b[0mh2\u001b[0m\u001b[1;33m,\u001b[0m\u001b[1;36m0.45\u001b[0m\u001b[1;33m)\u001b[0m\u001b[1;33m\u001b[0m\u001b[0m\n\u001b[0;32m      4\u001b[0m \u001b[1;33m\u001b[0m\u001b[0m\n\u001b[1;32m----> 5\u001b[1;33m \u001b[0mplt\u001b[0m\u001b[1;33m.\u001b[0m\u001b[0mshow\u001b[0m\u001b[1;33m(\u001b[0m\u001b[1;33m)\u001b[0m\u001b[1;33m\u001b[0m\u001b[0m\n\u001b[0m",
      "\u001b[1;32mc:\\miniconda3\\lib\\site-packages\\matplotlib\\pyplot.py\u001b[0m in \u001b[0;36mshow\u001b[1;34m(*args, **kw)\u001b[0m\n\u001b[0;32m    242\u001b[0m     \"\"\"\n\u001b[0;32m    243\u001b[0m     \u001b[1;32mglobal\u001b[0m \u001b[0m_show\u001b[0m\u001b[1;33m\u001b[0m\u001b[0m\n\u001b[1;32m--> 244\u001b[1;33m     \u001b[1;32mreturn\u001b[0m \u001b[0m_show\u001b[0m\u001b[1;33m(\u001b[0m\u001b[1;33m*\u001b[0m\u001b[0margs\u001b[0m\u001b[1;33m,\u001b[0m \u001b[1;33m**\u001b[0m\u001b[0mkw\u001b[0m\u001b[1;33m)\u001b[0m\u001b[1;33m\u001b[0m\u001b[0m\n\u001b[0m\u001b[0;32m    245\u001b[0m \u001b[1;33m\u001b[0m\u001b[0m\n\u001b[0;32m    246\u001b[0m \u001b[1;33m\u001b[0m\u001b[0m\n",
      "\u001b[1;32mc:\\miniconda3\\lib\\site-packages\\ipykernel\\pylab\\backend_inline.py\u001b[0m in \u001b[0;36mshow\u001b[1;34m(close, block)\u001b[0m\n\u001b[0;32m     37\u001b[0m             display(\n\u001b[0;32m     38\u001b[0m                 \u001b[0mfigure_manager\u001b[0m\u001b[1;33m.\u001b[0m\u001b[0mcanvas\u001b[0m\u001b[1;33m.\u001b[0m\u001b[0mfigure\u001b[0m\u001b[1;33m,\u001b[0m\u001b[1;33m\u001b[0m\u001b[0m\n\u001b[1;32m---> 39\u001b[1;33m                 \u001b[0mmetadata\u001b[0m\u001b[1;33m=\u001b[0m\u001b[0m_fetch_figure_metadata\u001b[0m\u001b[1;33m(\u001b[0m\u001b[0mfigure_manager\u001b[0m\u001b[1;33m.\u001b[0m\u001b[0mcanvas\u001b[0m\u001b[1;33m.\u001b[0m\u001b[0mfigure\u001b[0m\u001b[1;33m)\u001b[0m\u001b[1;33m\u001b[0m\u001b[0m\n\u001b[0m\u001b[0;32m     40\u001b[0m             )\n\u001b[0;32m     41\u001b[0m     \u001b[1;32mfinally\u001b[0m\u001b[1;33m:\u001b[0m\u001b[1;33m\u001b[0m\u001b[0m\n",
      "\u001b[1;32mc:\\miniconda3\\lib\\site-packages\\ipykernel\\pylab\\backend_inline.py\u001b[0m in \u001b[0;36m_fetch_figure_metadata\u001b[1;34m(fig)\u001b[0m\n\u001b[0;32m    172\u001b[0m     \u001b[1;34m\"\"\"Get some metadata to help with displaying a figure.\"\"\"\u001b[0m\u001b[1;33m\u001b[0m\u001b[0m\n\u001b[0;32m    173\u001b[0m     \u001b[1;31m# determine if a background is needed for legibility\u001b[0m\u001b[1;33m\u001b[0m\u001b[1;33m\u001b[0m\u001b[0m\n\u001b[1;32m--> 174\u001b[1;33m     \u001b[1;32mif\u001b[0m \u001b[0m_is_transparent\u001b[0m\u001b[1;33m(\u001b[0m\u001b[0mfig\u001b[0m\u001b[1;33m.\u001b[0m\u001b[0mget_facecolor\u001b[0m\u001b[1;33m(\u001b[0m\u001b[1;33m)\u001b[0m\u001b[1;33m)\u001b[0m\u001b[1;33m:\u001b[0m\u001b[1;33m\u001b[0m\u001b[0m\n\u001b[0m\u001b[0;32m    175\u001b[0m         \u001b[1;31m# the background is transparent\u001b[0m\u001b[1;33m\u001b[0m\u001b[1;33m\u001b[0m\u001b[0m\n\u001b[0;32m    176\u001b[0m         ticksLight = _is_light([label.get_color()\n",
      "\u001b[1;32mc:\\miniconda3\\lib\\site-packages\\ipykernel\\pylab\\backend_inline.py\u001b[0m in \u001b[0;36m_is_transparent\u001b[1;34m(color)\u001b[0m\n\u001b[0;32m    193\u001b[0m \u001b[1;32mdef\u001b[0m \u001b[0m_is_transparent\u001b[0m\u001b[1;33m(\u001b[0m\u001b[0mcolor\u001b[0m\u001b[1;33m)\u001b[0m\u001b[1;33m:\u001b[0m\u001b[1;33m\u001b[0m\u001b[0m\n\u001b[0;32m    194\u001b[0m     \u001b[1;34m\"\"\"Determine transparency from alpha.\"\"\"\u001b[0m\u001b[1;33m\u001b[0m\u001b[0m\n\u001b[1;32m--> 195\u001b[1;33m     \u001b[0mrgba\u001b[0m \u001b[1;33m=\u001b[0m \u001b[0mcolors\u001b[0m\u001b[1;33m.\u001b[0m\u001b[0mto_rgba\u001b[0m\u001b[1;33m(\u001b[0m\u001b[0mcolor\u001b[0m\u001b[1;33m)\u001b[0m\u001b[1;33m\u001b[0m\u001b[0m\n\u001b[0m\u001b[0;32m    196\u001b[0m     \u001b[1;32mreturn\u001b[0m \u001b[0mrgba\u001b[0m\u001b[1;33m[\u001b[0m\u001b[1;36m3\u001b[0m\u001b[1;33m]\u001b[0m \u001b[1;33m<\u001b[0m \u001b[1;36m.5\u001b[0m\u001b[1;33m\u001b[0m\u001b[0m\n",
      "\u001b[1;31mAttributeError\u001b[0m: module 'matplotlib.colors' has no attribute 'to_rgba'"
     ]
    }
   ],
   "source": [
    "simple_contour(h2,0.25)\n",
    "simple_contour(h2,0.35)\n",
    "simple_contour(h2,0.45)\n",
    "\n",
    "plt.show()"
   ]
  }
 ],
 "metadata": {
  "kernelspec": {
   "display_name": "Python 3",
   "language": "python",
   "name": "python3"
  },
  "language_info": {
   "codemirror_mode": {
    "name": "ipython",
    "version": 3
   },
   "file_extension": ".py",
   "mimetype": "text/x-python",
   "name": "python",
   "nbconvert_exporter": "python",
   "pygments_lexer": "ipython3",
   "version": "3.5.2"
  }
 },
 "nbformat": 4,
 "nbformat_minor": 2
}
