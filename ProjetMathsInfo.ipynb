{
 "cells": [
  {
   "cell_type": "markdown",
   "metadata": {},
   "source": [
    "Projet Maths-Info\n",
    "===============\n",
    "\n",
    "Myrtille DAVID et Bérénice SINOPOLI--PAL\n",
    "\n",
    "\n"
   ]
  },
  {
   "cell_type": "code",
   "execution_count": 2,
   "metadata": {},
   "outputs": [],
   "source": [
    "import autograd\n",
    "from autograd import numpy as np\n",
    "from matplotlib import pyplot as plt\n",
    "%matplotlib inline"
   ]
  },
  {
   "cell_type": "markdown",
   "metadata": {},
   "source": [
    "Amorce\n",
    "------\n",
    "\n",
    "D'après le théorème des valeurs intermédiaires, si la fonction $f_{1}:x \\mapsto f(x,0)$ est continue et que $f(0,0)\\leq c\\leq f(1,0)$ alors il existe $t\\in [0,1]$ tel que $f(t,0)=c$.\n",
    "Plusieurs algorithmes sont envisageables pour trouver ce t. Comme la méthode de Newton ne fonctionne pas avec toutes les fonctions, on a préféré ici une méthode par dichotomie."
   ]
  },
  {
   "cell_type": "code",
   "execution_count": 3,
   "metadata": {},
   "outputs": [],
   "source": [
    "def find_seed(g, c=0, eps=2**(-26)):\n",
    "    def f(x,y):\n",
    "        return g(x,y)-c\n",
    "    a,b=0,1\n",
    "    m=(a+b)/2\n",
    "    \n",
    "    if f(0,a)*f(0,b)<0 :\n",
    "        while abs(f(0,m))>eps:\n",
    "            if f(0,a)*f(0,m)<0:\n",
    "                b = m\n",
    "            elif f(0,b)*f(0,m)<0:\n",
    "                a = m\n",
    "            m = (a+b)/2\n",
    "    \n",
    "        return m\n",
    "    elif f(0,a)==0:\n",
    "        return a\n",
    "    elif f(0,b)==0:\n",
    "        return b\n",
    "    else :\n",
    "        return None"
   ]
  },
  {
   "cell_type": "markdown",
   "metadata": {},
   "source": [
    "Propagation : première version\n",
    "-------------\n",
    "\n",
    "Voici une première ébauche de notre programme simple_contour. On utilise ici le fait que le gradient est en tout point orthogonal aux lignes de niveau. \n",
    "\n",
    "**Principe :** on définit une fonction grad_f qui calcule le gradient de la fonction en un point donné. On trace ensuite la ligne de niveau point par point : on calcule le gradient, on ajoute un point dans la direction orthogonale éloigné d'une distance $\\delta$ du précédent.\n",
    "\n",
    "**Le problème majeur de ce programme :** à chaque fois que l'on ajoute un point, l'erreur s'accumule et on peut s'éloigner beaucoup de la ligne de niveau initiale."
   ]
  },
  {
   "cell_type": "code",
   "execution_count": 4,
   "metadata": {},
   "outputs": [],
   "source": [
    "def simple_contour_brouillon(f, c=0.0, delta=0.01):\n",
    "    \n",
    "    def grad_f(x,y):\n",
    "        g = autograd.grad\n",
    "        return np.r_[g(f,0)(x,y), g(f,1)(x,y)]\n",
    "        \n",
    "    x=[]\n",
    "    y=[]\n",
    "    \n",
    "    a = find_seed(f,c)\n",
    "    if a is None :\n",
    "        return x,y\n",
    "    else:\n",
    "        x.append(0.0)\n",
    "        y.append(a)\n",
    "        \n",
    "    while len(x)<1000: #quelle condition pour arrêter de tracer la ligne de niveau ?\n",
    "        gr = grad_f(x[-1],y[-1])\n",
    "        d = [gr[1],-gr[0]]\n",
    "        L=np.sqrt(d[0]**2+d[1]**2)\n",
    "        d[0]=d[0]*delta/L\n",
    "        d[1]=d[1]*delta/L\n",
    "        \n",
    "        x.append(x[-1]+d[0])\n",
    "        y.append(y[-1]+d[1])\n",
    "        print(f(x[-1],y[-1]))\n",
    "        \n",
    "    plt.plot(x,y)\n",
    "    plt.show()\n",
    "    return x,y\n",
    "    "
   ]
  },
  {
   "cell_type": "markdown",
   "metadata": {},
   "source": [
    "Propagation : version finale\n",
    "------------------\n",
    "\n",
    "Ce programme fonctionne selon le même principe que le précédent. Voici les ajustements proposés : \n",
    "\n",
    "**Correction de l'erreur :** à chaque fois que l'on calcule un nouveau point, on vérifie qu'il n'est pas trop éloigné de la ligne de niveau souhaitée en comparant $f(x,y)$ à $c$. Si $\\left | f(x,y)-c) \\right |> 10^{-4}$, alors on se \"déplace\" dans la direction donnée par le gradient (dans le sens du gradient ou le sens opposé selon le signe de la différence) pour se rapprocher de la ligne de niveau. A chaque itération, on vérifie que la différence $\\left | f(x,y)-c) \\right |> 10^{-4}$ n'augmente pas ; sinon, on sort de la boucle.\n",
    "\n",
    "**Quand arrêter de tracer la ligne de niveau ?** \n",
    "Plusieurs cas de figure sont envisageables :\n",
    "- soit la ligne de niveau rencontre un des bords du carré; on s'arrête.\n",
    "- soit la ligne de niveau ne rencontre jamais de bord; dans ce cas, pour éviter de calculer indéfiniment de nouveaux points, on choisit arbitrairement de limiter le nombre de points de la ligne à 10000."
   ]
  },
  {
   "cell_type": "code",
   "execution_count": 5,
   "metadata": {},
   "outputs": [],
   "source": [
    "    \n",
    "def simple_contour(f, c=0.0, delta=0.01):\n",
    "    \n",
    "    def grad_f(x,y): #on définit la fonction gradient\n",
    "        g = autograd.grad\n",
    "        return np.r_[g(f,0)(x,y), g(f,1)(x,y)]\n",
    "        \n",
    "    x=[]\n",
    "    y=[]\n",
    "    \n",
    "    a = find_seed(f,c) #on cherche le premier point à l'aide du programme find_seed\n",
    "    \n",
    "    if a is None :\n",
    "        return x,y\n",
    "    else:\n",
    "        x.append(0.0)\n",
    "        y.append(a)\n",
    "        \n",
    "    while len(x)<10000: #on limite le nombre de points au cas où la ligne de niveau n'atteigne jamais de bord du carré\n",
    "        gr = grad_f(x[-1],y[-1]) #on calcule le gradient du dernier point trouvé\n",
    "        d = [gr[1],-gr[0]] #on calcule le vecteur orthogonal\n",
    "        L=np.sqrt(d[0]**2+d[1]**2)\n",
    "        d[0]=d[0]*delta/L #on change la norme de d pour qu'elle soit proche de delta\n",
    "        d[1]=d[1]*delta/L\n",
    "        \n",
    "        x2=x[-1]+d[0] #on calcule le nouveau point\n",
    "        y2=y[-1]+d[1]\n",
    "        \n",
    "        différence= f(x2,y2)-c #on vérifie que le nouveau point calculé ne s'éloigne pas trop de la ligne de niveau\n",
    "        while abs(différence)>10**(-4):\n",
    "            différence_ref=différence\n",
    "            t=grad_f(x2,y2)\n",
    "            norme_t=np.sqrt(t[0]**2+t[1]**2)\n",
    "            \n",
    "            if différence>0: #si f(x2,y2)>c alors on se déplace dans le sens opposé au gradient\n",
    "                x3=x2-t[0]/norme_t*(delta/50)\n",
    "                y3=y2-t[0]/norme_t*(delta/50)\n",
    "            else: #sinon on se déplace dans le sens du gradient\n",
    "                x3=x2+t[0]/norme_t*(delta/50)\n",
    "                y3=y2+t[0]/norme_t*(delta/50)\n",
    "            différence= f(x3,y3)-c\n",
    "            \n",
    "            if différence>différence_ref: #si on s'éloigne de la ligne de niveau, on arrête la correction\n",
    "                break\n",
    "                \n",
    "            x2=x3\n",
    "            y2=y3\n",
    "                \n",
    "        \n",
    "        x.append(x2)\n",
    "        y.append(y2)\n",
    "        \n",
    "        if (abs(x[-1]-1)<delta) or ((abs(x[-1])<delta) and len(x)>10) or (abs(y[-1]-1)<delta) or (abs(y[-1])<delta): #on s'arrête quand on atteint les bords\n",
    "            break\n",
    "        \n",
    "    return(x,y)\n",
    "    "
   ]
  },
  {
   "cell_type": "markdown",
   "metadata": {},
   "source": [
    "Test de simple_contour\n",
    "-------------\n",
    "\n",
    "On teste simple_contour sur plusieurs fonctions définies ci-dessous. La fonction simple_contour2 est la même que celle ci dessus sauf qu'elle permet de plotter le fragment calculé. On l'utilise pour visualiser et tester le programme maintenant mais c'est simple_contour qui est réutilisé par la suite."
   ]
  },
  {
   "cell_type": "code",
   "execution_count": 10,
   "metadata": {},
   "outputs": [],
   "source": [
    "def h2(x,y):\n",
    "    return x+y**2-0.47\n",
    "def h3(x,y):\n",
    "    return x**2+y**2"
   ]
  },
  {
   "cell_type": "code",
   "execution_count": 7,
   "metadata": {
    "scrolled": true
   },
   "outputs": [],
   "source": [
    "def simple_contour2(f, c=0.0, delta=0.01):\n",
    "    \n",
    "    def grad_f(x,y): #on définit la fonction gradient\n",
    "        g = autograd.grad\n",
    "        return np.r_[g(f,0)(x,y), g(f,1)(x,y)]\n",
    "        \n",
    "    x=[]\n",
    "    y=[]\n",
    "    \n",
    "    a = find_seed(f,c) #on cherche le premier point à l'aide du programme find_seed\n",
    "    \n",
    "    if a is None :\n",
    "        return x,y\n",
    "    else:\n",
    "        x.append(0.0)\n",
    "        y.append(a)\n",
    "        \n",
    "    while len(x)<10000: #on limite le nombre de points au cas où la ligne de niveau n'atteigne jamais de bord du carré\n",
    "        gr = grad_f(x[-1],y[-1]) #on calcule le gradient du dernier point trouvé\n",
    "        d = [gr[1],-gr[0]] #on calcule le vecteur orthogonal\n",
    "        L=np.sqrt(d[0]**2+d[1]**2)\n",
    "        d[0]=d[0]*delta/L #on change la norme de d pour qu'elle soit proche de delta\n",
    "        d[1]=d[1]*delta/L\n",
    "        \n",
    "        x2=x[-1]+d[0] #on calcule le nouveau point\n",
    "        y2=y[-1]+d[1]\n",
    "        \n",
    "        différence= f(x2,y2)-c #on vérifie que le nouveau point calculé ne s'éloigne pas trop de la ligne de niveau\n",
    "        while abs(différence)>10**(-4):\n",
    "            différence_ref=différence\n",
    "            t=grad_f(x2,y2)\n",
    "            norme_t=np.sqrt(t[0]**2+t[1]**2)\n",
    "            \n",
    "            if différence>0: #si f(x2,y2)>c alors on se déplace dans le sens opposé au gradient\n",
    "                x3=x2-t[0]/norme_t*(delta/50)\n",
    "                y3=y2-t[0]/norme_t*(delta/50)\n",
    "            else: #sinon on se déplace dans le sens du gradient\n",
    "                x3=x2+t[0]/norme_t*(delta/50)\n",
    "                y3=y2+t[0]/norme_t*(delta/50)\n",
    "            différence= f(x3,y3)-c\n",
    "            \n",
    "            if différence>différence_ref: #si on s'éloigne de la ligne de niveau, on arrête la correction\n",
    "                break\n",
    "                \n",
    "            x2=x3\n",
    "            y2=y3\n",
    "                \n",
    "        \n",
    "        x.append(x2)\n",
    "        y.append(y2)\n",
    "        \n",
    "        if (abs(x[-1]-1)<delta) or ((abs(x[-1])<delta) and len(x)>10) or (abs(y[-1]-1)<delta) or (abs(y[-1])<delta): #on s'arrête quand on atteint les bords\n",
    "            break\n",
    "        \n",
    "    plt.plot(x,y, label=c)\n",
    "    return(x,y)\n",
    "    "
   ]
  },
  {
   "cell_type": "code",
   "execution_count": null,
   "metadata": {},
   "outputs": [],
   "source": [
    "simple_contour2(h2,-0.25)\n",
    "simple_contour2(h2,0.0)\n",
    "simple_contour2(h2,0.25)\n",
    "simple_contour2(h2,0.35)\n",
    "simple_contour2(h2,0.45)\n",
    "plt.legend()\n",
    "plt.show()"
   ]
  },
  {
   "cell_type": "code",
   "execution_count": 8,
   "metadata": {},
   "outputs": [
    {
     "data": {
      "image/png": "[encoded data removed]",
      "text/plain": [
       "<Figure size 432x288 with 1 Axes>"
      ]
     },
     "metadata": {
      "needs_background": "light"
     },
     "output_type": "display_data"
    }
   ],
   "source": [
    "simple_contour2(h3,0.35)\n",
    "simple_contour2(h3,0.45)\n",
    "plt.legend()\n",
    "plt.show()"
   ]
  },
  {
   "cell_type": "markdown",
   "metadata": {},
   "source": [
    "Contour complexe\n",
    "------\n",
    "\n",
    "On utilise dans cette dernière partie la fonction simple_contour au sein de contour_complexe pour tracer des lignes de niveau sur une zone plus étendue."
   ]
  },
  {
   "cell_type": "code",
   "execution_count": 6,
   "metadata": {},
   "outputs": [],
   "source": [
    "\n",
    "# Rotators\n",
    "# ------------------------------------------------------------------------------\n",
    "LEFT, UP, RIGHT, DOWN = 0, 1, 2, 3  # clockwise\n",
    "\n",
    "\n",
    "def rotate_direction(direction, n=1):\n",
    "    return (direction + n) % 4\n",
    "\n",
    "\n",
    "def rotate(x, y, n=1):\n",
    "    if n == 0:\n",
    "        return x, y\n",
    "    elif n >= 1:\n",
    "        return rotate(1 - y, x, n - 1)\n",
    "    else:\n",
    "        assert n < 0\n",
    "        return rotate(x, y, n=-3 * n)\n",
    "\n",
    "\n",
    "def rotate_function(f, n=1):\n",
    "    def rotated_function(x, y):\n",
    "        xr, yr = rotate(x, y, -n)\n",
    "        return f(xr, yr)\n",
    "\n",
    "    return rotated_function\n",
    "\n",
    "\n",
    "# Complex Contouring\n",
    "# ------------------------------------------------------------------------------\n",
    "\n",
    "# Customize the simple_contour function used in contour :\n",
    "# simple_contour = smart_simple_contour\n",
    "\n",
    "def contour(f, c, xs=[0.0, 1.0], ys=[0.0, 1.0], delta=0.01):\n",
    "    curves = []\n",
    "    nx, ny = len(xs), len(ys)\n",
    "    for i in range(nx - 1):\n",
    "        for j in range(ny - 1):\n",
    "            xmin, xmax = xs[i], xs[i + 1]\n",
    "            ymin, ymax = ys[j], ys[j + 1]\n",
    "\n",
    "            def f_cell(x, y):\n",
    "                return f(xmin + (xmax - xmin) * x, ymin + (ymax - ymin) * y)\n",
    "\n",
    "            done = set()\n",
    "            for n in [0, 1, 2, 3]:\n",
    "                if n not in done:\n",
    "                    rotated_f_cell = rotate_function(f_cell, n)\n",
    "                    x_curve_r, y_curve_r = simple_contour(rotated_f_cell, c, delta)\n",
    "                    exit = None\n",
    "                    if len(x_curve_r) >= 1:\n",
    "                        xf, yf = x_curve_r[-1], y_curve_r[-1]\n",
    "                        if xf == 0.0:\n",
    "                            exit = LEFT\n",
    "                        elif xf == 1.0:\n",
    "                            exit = RIGHT\n",
    "                        elif yf == 0.0:\n",
    "                            exit = DOWN\n",
    "                        elif yf == 1.0:\n",
    "                            exit = UP\n",
    "                    if exit is not None:  # a fully successful contour fragment\n",
    "                        exit = rotate_direction(exit, n)\n",
    "                        done.add(exit)\n",
    "\n",
    "                    x_curve, y_curve = [], []\n",
    "                    for x_r, y_r in zip(x_curve_r, y_curve_r):\n",
    "                        x, y = rotate(x_r, y_r, n=-n)\n",
    "                        x_curve.append(x)\n",
    "                        y_curve.append(y)\n",
    "                    x_curve = np.array(x_curve)\n",
    "                    y_curve = np.array(y_curve)\n",
    "                    curves.append(\n",
    "                        (xmin + (xmax - xmin) * x_curve, ymin + (ymax - ymin) * y_curve)\n",
    "                    )\n",
    "    return curves"
   ]
  },
  {
   "cell_type": "markdown",
   "metadata": {},
   "source": [
    "Test sur plusieurs fonctions\n",
    "-----------\n",
    "\n",
    "On utilise la fonction $h2$ définie plus haut et la fonction $h$ définie ci-dessous."
   ]
  },
  {
   "cell_type": "code",
   "execution_count": 7,
   "metadata": {},
   "outputs": [],
   "source": [
    "def f(x,y):\n",
    "    return np.exp((-x**2)-(y**2))\n",
    "    \n",
    "def g(x,y):\n",
    "    return np.exp(-(x-1)**2-(y-1)**2)\n",
    "    \n",
    "def h(x,y):\n",
    "    return 2*(f(x,y)-g(x,y))\n",
    "\n",
    "def i(x,y):\n",
    "    return x**4+y**4-0.4\n"
   ]
  },
  {
   "cell_type": "markdown",
   "metadata": {},
   "source": [
    "Test de la fonction $h2$ sur l'intervalle $\\left [ 0;1 \\right ]\\times \\left [ 0;2 \\right ]$"
   ]
  },
  {
   "cell_type": "code",
   "execution_count": 11,
   "metadata": {},
   "outputs": [
    {
     "data": {
      "image/png": "[encoded data removed]",
      "text/plain": [
       "<Figure size 432x288 with 1 Axes>"
      ]
     },
     "metadata": {
      "needs_background": "light"
     },
     "output_type": "display_data"
    }
   ],
   "source": [
    "xs=[0.0,1.0]\n",
    "ys=[0.0,1.0,2.0]\n",
    "\n",
    "tc=[0.0,0.25,0.45]\n",
    "\n",
    "for c in tc:\n",
    "    level_curves = contour(h2,c, xs, ys) \n",
    "    for x, y in level_curves:\n",
    "        plt.plot(x, y)\n",
    "\n",
    "plt.show()"
   ]
  },
  {
   "cell_type": "markdown",
   "metadata": {},
   "source": [
    "Test de la fonction $h$ sur l'intervalle $\\left [ 0;2 \\right ]\\times \\left [ 1;2 \\right ]$"
   ]
  },
  {
   "cell_type": "code",
   "execution_count": null,
   "metadata": {},
   "outputs": [],
   "source": [
    "xs=[0.0,1.0,2.0]\n",
    "ys=[1.0,2.0]\n",
    "\n",
    "tc=[-1.5,-1.0,-0.8]\n",
    "\n",
    "for c in tc:\n",
    "    level_curves = contour(h,c, xs, ys) \n",
    "    for x, y in level_curves:\n",
    "        plt.plot(x, y)\n",
    "\n",
    "plt.show()"
   ]
  },
  {
   "cell_type": "markdown",
   "metadata": {},
   "source": [
    "Test de la fonction $i$ sur l'intervalle $\\left [ -2;2 \\right ]\\times \\left [ -2;2 \\right ]$"
   ]
  },
  {
   "cell_type": "code",
   "execution_count": 8,
   "metadata": {},
   "outputs": [
    {
     "data": {
      "image/png": "[encoded data removed]",
      "text/plain": [
       "<Figure size 432x288 with 1 Axes>"
      ]
     },
     "metadata": {
      "needs_background": "light"
     },
     "output_type": "display_data"
    }
   ],
   "source": [
    "xs=[-2.0,-1.0,0.0,1.0,2.0]\n",
    "ys=[-2.0,-1.0,0.0,1.0,2.0]\n",
    "\n",
    "tc=[0.1,-0.3,1.0]\n",
    "\n",
    "for c in tc:\n",
    "    level_curves = contour(i,c, xs, ys) \n",
    "    for x, y in level_curves:\n",
    "        plt.plot(x, y)\n",
    "\n",
    "plt.show()"
   ]
  }
 ],
 "metadata": {
  "kernelspec": {
   "display_name": "Python 3",
   "language": "python",
   "name": "python3"
  },
  "language_info": {
   "codemirror_mode": {
    "name": "ipython",
    "version": 3
   },
   "file_extension": ".py",
   "mimetype": "text/x-python",
   "name": "python",
   "nbconvert_exporter": "python",
   "pygments_lexer": "ipython3",
   "version": "3.7.4"
  }
 },
 "nbformat": 4,
 "nbformat_minor": 2
}
